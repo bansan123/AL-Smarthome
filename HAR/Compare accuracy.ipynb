{
 "cells": [
  {
   "cell_type": "code",
   "execution_count": 2,
   "metadata": {
    "ExecuteTime": {
     "end_time": "2022-09-21T11:21:59.751345Z",
     "start_time": "2022-09-21T11:21:57.042572Z"
    }
   },
   "outputs": [],
   "source": [
    "import pandas as pd\n",
    "from sklearn.metrics import classification_report\n",
    "from sklearn.metrics import accuracy_score\n",
    "from pm4py.objects.petri.importer import importer as pnml_importer"
   ]
  },
  {
   "cell_type": "code",
   "execution_count": 3,
   "metadata": {
    "ExecuteTime": {
     "end_time": "2022-09-21T11:21:59.850801Z",
     "start_time": "2022-09-21T11:21:59.814657Z"
    }
   },
   "outputs": [],
   "source": [
    "import sys \n",
    "sys.path.append(\"./utils\")\n",
    "import probabilistic_alignments"
   ]
  },
  {
   "cell_type": "code",
   "execution_count": 6,
   "metadata": {
    "ExecuteTime": {
     "end_time": "2022-09-21T11:23:47.200594Z",
     "start_time": "2022-09-21T11:23:47.161150Z"
    }
   },
   "outputs": [],
   "source": [
    "prob_0611 = pd.read_csv(\"./pred_prob_20110615.csv\")"
   ]
  },
  {
   "cell_type": "code",
   "execution_count": 5,
   "metadata": {
    "ExecuteTime": {
     "end_time": "2022-09-21T11:22:23.933443Z",
     "start_time": "2022-09-21T11:22:23.900450Z"
    }
   },
   "outputs": [],
   "source": [
    "net, im, fm = pnml_importer.apply(\"./process model/hh102_model_random_15.pnml\")"
   ]
  },
  {
   "cell_type": "code",
   "execution_count": 7,
   "metadata": {
    "ExecuteTime": {
     "end_time": "2022-09-21T11:24:24.554894Z",
     "start_time": "2022-09-21T11:24:13.537467Z"
    }
   },
   "outputs": [
    {
     "ename": "KeyboardInterrupt",
     "evalue": "",
     "output_type": "error",
     "traceback": [
      "\u001b[1;31m---------------------------------------------------------------------------\u001b[0m",
      "\u001b[1;31mKeyboardInterrupt\u001b[0m                         Traceback (most recent call last)",
      "\u001b[1;32m<ipython-input-7-decdb834f40f>\u001b[0m in \u001b[0;36m<module>\u001b[1;34m\u001b[0m\n\u001b[0;32m      8\u001b[0m \u001b[0mpred_prob_df\u001b[0m \u001b[1;33m=\u001b[0m \u001b[0mprob_0611\u001b[0m\u001b[1;33m\u001b[0m\u001b[1;33m\u001b[0m\u001b[0m\n\u001b[0;32m      9\u001b[0m \u001b[0mpred_prob_df\u001b[0m \u001b[1;33m=\u001b[0m \u001b[0mpred_prob_df\u001b[0m\u001b[1;33m.\u001b[0m\u001b[0mfillna\u001b[0m\u001b[1;33m(\u001b[0m\u001b[1;36m0\u001b[0m\u001b[1;33m)\u001b[0m\u001b[1;33m\u001b[0m\u001b[1;33m\u001b[0m\u001b[0m\n\u001b[1;32m---> 10\u001b[1;33m \u001b[0mresult\u001b[0m \u001b[1;33m=\u001b[0m  \u001b[0mprobabilistic_alignments\u001b[0m\u001b[1;33m.\u001b[0m\u001b[0mapply\u001b[0m\u001b[1;33m(\u001b[0m\u001b[0mpred_prob_df\u001b[0m\u001b[1;33m,\u001b[0m\u001b[0mmodel_dic\u001b[0m\u001b[1;33m,\u001b[0m\u001b[0mepsilon\u001b[0m\u001b[1;33m)\u001b[0m\u001b[1;33m\u001b[0m\u001b[1;33m\u001b[0m\u001b[0m\n\u001b[0m\u001b[0;32m     11\u001b[0m \u001b[0mprint\u001b[0m\u001b[1;33m(\u001b[0m\u001b[0mresult\u001b[0m\u001b[1;33m)\u001b[0m\u001b[1;33m\u001b[0m\u001b[1;33m\u001b[0m\u001b[0m\n",
      "\u001b[1;32mD:\\develope\\ActivityofDailyLiving\\AL-Smarthome\\HAR\\utils\\probabilistic_alignments.py\u001b[0m in \u001b[0;36mapply\u001b[1;34m(df, model_net, epsilon)\u001b[0m\n\u001b[0;32m     74\u001b[0m \u001b[1;33m\u001b[0m\u001b[0m\n\u001b[0;32m     75\u001b[0m     \u001b[0mnormal_cost\u001b[0m \u001b[1;33m=\u001b[0m \u001b[0mgenerate_cost\u001b[0m\u001b[1;33m.\u001b[0m\u001b[0mgenerate_normal_cost\u001b[0m\u001b[1;33m(\u001b[0m\u001b[0msync_net\u001b[0m\u001b[1;33m)\u001b[0m\u001b[1;33m\u001b[0m\u001b[1;33m\u001b[0m\u001b[0m\n\u001b[1;32m---> 76\u001b[1;33m     \u001b[0mmost_prob_result\u001b[0m \u001b[1;33m=\u001b[0m \u001b[0mprob_a_star\u001b[0m\u001b[1;33m.\u001b[0m\u001b[0mapply_sync_prod\u001b[0m\u001b[1;33m(\u001b[0m\u001b[0msync_net\u001b[0m\u001b[1;33m,\u001b[0m \u001b[0mim_s\u001b[0m\u001b[1;33m,\u001b[0m \u001b[0mfm_s\u001b[0m\u001b[1;33m,\u001b[0m \u001b[0mcost_function\u001b[0m\u001b[1;33m,\u001b[0m \u001b[0mnormal_cost\u001b[0m\u001b[1;33m,\u001b[0m \u001b[1;34m\">>\"\u001b[0m\u001b[1;33m)\u001b[0m\u001b[1;33m\u001b[0m\u001b[1;33m\u001b[0m\u001b[0m\n\u001b[0m\u001b[0;32m     77\u001b[0m     \u001b[0mmost_prob_result\u001b[0m\u001b[1;33m[\u001b[0m\u001b[1;34m\"probability\"\u001b[0m\u001b[1;33m]\u001b[0m\u001b[1;33m,\u001b[0m \u001b[0mmost_prob_result\u001b[0m\u001b[1;33m[\u001b[0m\u001b[1;34m\"path\"\u001b[0m\u001b[1;33m]\u001b[0m \u001b[1;33m=\u001b[0m \u001b[0mgenerate_cost\u001b[0m\u001b[1;33m.\u001b[0m\u001b[0mgenerate_prob\u001b[0m\u001b[1;33m(\u001b[0m\u001b[0mmost_prob_result\u001b[0m\u001b[1;33m[\u001b[0m\u001b[1;34m\"alignment\"\u001b[0m\u001b[1;33m]\u001b[0m\u001b[1;33m,\u001b[0m\u001b[0mlog_net\u001b[0m\u001b[1;33m[\u001b[0m\u001b[1;34m\"event\"\u001b[0m\u001b[1;33m]\u001b[0m\u001b[1;33m)\u001b[0m\u001b[1;33m\u001b[0m\u001b[1;33m\u001b[0m\u001b[0m\n\u001b[0;32m     78\u001b[0m     \u001b[1;31m# most_prob_result[\"probability\"]=r_prob\u001b[0m\u001b[1;33m\u001b[0m\u001b[1;33m\u001b[0m\u001b[1;33m\u001b[0m\u001b[0m\n",
      "\u001b[1;32mD:\\develope\\ActivityofDailyLiving\\AL-Smarthome\\HAR\\utils\\state_equation_a_star.py\u001b[0m in \u001b[0;36mapply_sync_prod\u001b[1;34m(sync_prod, initial_marking, final_marking, cost_function, normal_cost, skip, ret_tuple_as_trans_desc, max_align_time_trace)\u001b[0m\n\u001b[0;32m    403\u001b[0m     \u001b[1;32mand\u001b[0m \u001b[1;33m**\u001b[0m\u001b[0mtraversed_arcs\u001b[0m\u001b[1;33m**\u001b[0m\u001b[1;33m\u001b[0m\u001b[1;33m\u001b[0m\u001b[0m\n\u001b[0;32m    404\u001b[0m     \"\"\"\n\u001b[1;32m--> 405\u001b[1;33m     return __search(sync_prod, initial_marking, final_marking, cost_function, normal_cost, skip,\n\u001b[0m\u001b[0;32m    406\u001b[0m                     ret_tuple_as_trans_desc=ret_tuple_as_trans_desc, max_align_time_trace=max_align_time_trace)\n\u001b[0;32m    407\u001b[0m \u001b[1;33m\u001b[0m\u001b[0m\n",
      "\u001b[1;32mD:\\develope\\ActivityofDailyLiving\\AL-Smarthome\\HAR\\utils\\state_equation_a_star.py\u001b[0m in \u001b[0;36m__search\u001b[1;34m(sync_net, ini, fin, cost_function, normal_cost, skip, ret_tuple_as_trans_desc, max_align_time_trace)\u001b[0m\n\u001b[0;32m    469\u001b[0m             \u001b[1;32mif\u001b[0m \u001b[1;33m(\u001b[0m\u001b[0mtime\u001b[0m\u001b[1;33m.\u001b[0m\u001b[0mtime\u001b[0m\u001b[1;33m(\u001b[0m\u001b[1;33m)\u001b[0m \u001b[1;33m-\u001b[0m \u001b[0mstart_time\u001b[0m\u001b[1;33m)\u001b[0m \u001b[1;33m>\u001b[0m \u001b[0mmax_align_time_trace\u001b[0m\u001b[1;33m:\u001b[0m\u001b[1;33m\u001b[0m\u001b[1;33m\u001b[0m\u001b[0m\n\u001b[0;32m    470\u001b[0m                 \u001b[1;32mreturn\u001b[0m \u001b[1;32mNone\u001b[0m\u001b[1;33m\u001b[0m\u001b[1;33m\u001b[0m\u001b[0m\n\u001b[1;32m--> 471\u001b[1;33m             h, x = utils.__compute_exact_heuristic_new_version(sync_net, a_matrix, h_cvx, g_matrix, cost_vec,\n\u001b[0m\u001b[0;32m    472\u001b[0m                                                                \u001b[0mincidence_matrix\u001b[0m\u001b[1;33m,\u001b[0m \u001b[0mcurr\u001b[0m\u001b[1;33m.\u001b[0m\u001b[0mm\u001b[0m\u001b[1;33m,\u001b[0m\u001b[1;33m\u001b[0m\u001b[1;33m\u001b[0m\u001b[0m\n\u001b[0;32m    473\u001b[0m                                                                \u001b[0mfin_vec\u001b[0m\u001b[1;33m,\u001b[0m \u001b[0mlp_solver\u001b[0m\u001b[1;33m.\u001b[0m\u001b[0mDEFAULT_LP_SOLVER_VARIANT\u001b[0m\u001b[1;33m,\u001b[0m\u001b[1;33m\u001b[0m\u001b[1;33m\u001b[0m\u001b[0m\n",
      "\u001b[1;32mD:\\develope\\ActivityofDailyLiving\\AL-Smarthome\\HAR\\utils\\align_utils.py\u001b[0m in \u001b[0;36m__compute_exact_heuristic_new_version\u001b[1;34m(sync_net, a_matrix, h_cvx, g_matrix, cost_vec, incidence_matrix, marking, fin_vec, variant, use_cvxopt)\u001b[0m\n\u001b[0;32m    178\u001b[0m     \u001b[0mparameters_solving\u001b[0m \u001b[1;33m=\u001b[0m \u001b[1;33m{\u001b[0m\u001b[1;34m\"solver\"\u001b[0m\u001b[1;33m:\u001b[0m \u001b[1;34m\"glpk\"\u001b[0m\u001b[1;33m}\u001b[0m\u001b[1;33m\u001b[0m\u001b[1;33m\u001b[0m\u001b[0m\n\u001b[0;32m    179\u001b[0m \u001b[1;33m\u001b[0m\u001b[0m\n\u001b[1;32m--> 180\u001b[1;33m     sol = lp_solver.apply(cost_vec, g_matrix, h_cvx, a_matrix, b_term, parameters=parameters_solving,\n\u001b[0m\u001b[0;32m    181\u001b[0m                                   variant=variant)\n\u001b[0;32m    182\u001b[0m     \u001b[0mprim_obj\u001b[0m \u001b[1;33m=\u001b[0m \u001b[0mlp_solver\u001b[0m\u001b[1;33m.\u001b[0m\u001b[0mget_prim_obj_from_sol\u001b[0m\u001b[1;33m(\u001b[0m\u001b[0msol\u001b[0m\u001b[1;33m,\u001b[0m \u001b[0mvariant\u001b[0m\u001b[1;33m=\u001b[0m\u001b[0mvariant\u001b[0m\u001b[1;33m)\u001b[0m\u001b[1;33m\u001b[0m\u001b[1;33m\u001b[0m\u001b[0m\n",
      "\u001b[1;32mD:\\develope\\anaconda\\lib\\site-packages\\pm4py\\util\\lp\\solver.py\u001b[0m in \u001b[0;36mapply\u001b[1;34m(c, Aub, bub, Aeq, beq, parameters, variant)\u001b[0m\n\u001b[0;32m    113\u001b[0m         \u001b[0mSolution\u001b[0m \u001b[0mof\u001b[0m \u001b[0mthe\u001b[0m \u001b[0mLP\u001b[0m \u001b[0mproblem\u001b[0m \u001b[0mby\u001b[0m \u001b[0mthe\u001b[0m \u001b[0mgiven\u001b[0m \u001b[0malgorithm\u001b[0m\u001b[1;33m\u001b[0m\u001b[1;33m\u001b[0m\u001b[0m\n\u001b[0;32m    114\u001b[0m     \"\"\"\n\u001b[1;32m--> 115\u001b[1;33m     \u001b[1;32mreturn\u001b[0m \u001b[0mVERSIONS_APPLY\u001b[0m\u001b[1;33m[\u001b[0m\u001b[0mvariant\u001b[0m\u001b[1;33m]\u001b[0m\u001b[1;33m(\u001b[0m\u001b[0mc\u001b[0m\u001b[1;33m,\u001b[0m \u001b[0mAub\u001b[0m\u001b[1;33m,\u001b[0m \u001b[0mbub\u001b[0m\u001b[1;33m,\u001b[0m \u001b[0mAeq\u001b[0m\u001b[1;33m,\u001b[0m \u001b[0mbeq\u001b[0m\u001b[1;33m,\u001b[0m \u001b[0mparameters\u001b[0m\u001b[1;33m=\u001b[0m\u001b[0mparameters\u001b[0m\u001b[1;33m)\u001b[0m\u001b[1;33m\u001b[0m\u001b[1;33m\u001b[0m\u001b[0m\n\u001b[0m\u001b[0;32m    116\u001b[0m \u001b[1;33m\u001b[0m\u001b[0m\n\u001b[0;32m    117\u001b[0m \u001b[1;33m\u001b[0m\u001b[0m\n",
      "\u001b[1;32mD:\\develope\\anaconda\\lib\\site-packages\\pm4py\\util\\lp\\variants\\cvxopt_solver_custom_align.py\u001b[0m in \u001b[0;36mapply\u001b[1;34m(c, Aub, bub, Aeq, beq, parameters)\u001b[0m\n\u001b[0;32m     67\u001b[0m         \u001b[0mSolution\u001b[0m \u001b[0mof\u001b[0m \u001b[0mthe\u001b[0m \u001b[0mLP\u001b[0m \u001b[0mproblem\u001b[0m \u001b[0mby\u001b[0m \u001b[0mthe\u001b[0m \u001b[0mgiven\u001b[0m \u001b[0malgorithm\u001b[0m\u001b[1;33m\u001b[0m\u001b[1;33m\u001b[0m\u001b[0m\n\u001b[0;32m     68\u001b[0m     \"\"\"\n\u001b[1;32m---> 69\u001b[1;33m     \u001b[0msol\u001b[0m \u001b[1;33m=\u001b[0m \u001b[0mcustom_solve_lp\u001b[0m\u001b[1;33m(\u001b[0m\u001b[0mc\u001b[0m\u001b[1;33m,\u001b[0m \u001b[0mAub\u001b[0m\u001b[1;33m,\u001b[0m \u001b[0mbub\u001b[0m\u001b[1;33m,\u001b[0m \u001b[0mAeq\u001b[0m\u001b[1;33m,\u001b[0m \u001b[0mbeq\u001b[0m\u001b[1;33m)\u001b[0m\u001b[1;33m\u001b[0m\u001b[1;33m\u001b[0m\u001b[0m\n\u001b[0m\u001b[0;32m     70\u001b[0m \u001b[1;33m\u001b[0m\u001b[0m\n\u001b[0;32m     71\u001b[0m     \u001b[1;32mreturn\u001b[0m \u001b[0msol\u001b[0m\u001b[1;33m\u001b[0m\u001b[1;33m\u001b[0m\u001b[0m\n",
      "\u001b[1;32mD:\\develope\\anaconda\\lib\\site-packages\\pm4py\\util\\lp\\variants\\cvxopt_solver_custom_align.py\u001b[0m in \u001b[0;36mcustom_solve_lp\u001b[1;34m(c, G, h, A, b)\u001b[0m\n\u001b[0;32m     33\u001b[0m \u001b[1;33m\u001b[0m\u001b[0m\n\u001b[0;32m     34\u001b[0m \u001b[1;32mdef\u001b[0m \u001b[0mcustom_solve_lp\u001b[0m\u001b[1;33m(\u001b[0m\u001b[0mc\u001b[0m\u001b[1;33m,\u001b[0m \u001b[0mG\u001b[0m\u001b[1;33m,\u001b[0m \u001b[0mh\u001b[0m\u001b[1;33m,\u001b[0m \u001b[0mA\u001b[0m\u001b[1;33m,\u001b[0m \u001b[0mb\u001b[0m\u001b[1;33m)\u001b[0m\u001b[1;33m:\u001b[0m\u001b[1;33m\u001b[0m\u001b[1;33m\u001b[0m\u001b[0m\n\u001b[1;32m---> 35\u001b[1;33m     \u001b[0mstatus\u001b[0m\u001b[1;33m,\u001b[0m \u001b[0mx\u001b[0m\u001b[1;33m,\u001b[0m \u001b[0mz\u001b[0m\u001b[1;33m,\u001b[0m \u001b[0my\u001b[0m \u001b[1;33m=\u001b[0m \u001b[0mglpk\u001b[0m\u001b[1;33m.\u001b[0m\u001b[0mlp\u001b[0m\u001b[1;33m(\u001b[0m\u001b[0mc\u001b[0m\u001b[1;33m,\u001b[0m \u001b[0mG\u001b[0m\u001b[1;33m,\u001b[0m \u001b[0mh\u001b[0m\u001b[1;33m,\u001b[0m \u001b[0mA\u001b[0m\u001b[1;33m,\u001b[0m \u001b[0mb\u001b[0m\u001b[1;33m,\u001b[0m \u001b[0moptions\u001b[0m\u001b[1;33m=\u001b[0m\u001b[0mthis_options\u001b[0m\u001b[1;33m)\u001b[0m\u001b[1;33m\u001b[0m\u001b[1;33m\u001b[0m\u001b[0m\n\u001b[0m\u001b[0;32m     36\u001b[0m \u001b[1;33m\u001b[0m\u001b[0m\n\u001b[0;32m     37\u001b[0m     \u001b[1;32mif\u001b[0m \u001b[0mstatus\u001b[0m \u001b[1;33m==\u001b[0m \u001b[1;34m'optimal'\u001b[0m\u001b[1;33m:\u001b[0m\u001b[1;33m\u001b[0m\u001b[1;33m\u001b[0m\u001b[0m\n",
      "\u001b[1;31mKeyboardInterrupt\u001b[0m: "
     ]
    }
   ],
   "source": [
    "model_dic = {}\n",
    "model_dic[\"net\"] = net\n",
    "model_dic[\"im\"] = im\n",
    "model_dic[\"fm\"] = fm\n",
    "prob_result_001 = []\n",
    "# prob_result_path = []\n",
    "epsilon = 0.01\n",
    "pred_prob_df = prob_0611\n",
    "pred_prob_df = pred_prob_df.fillna(0)\n",
    "result =  probabilistic_alignments.apply(pred_prob_df,model_dic,epsilon)\n",
    "print(result)"
   ]
  },
  {
   "cell_type": "code",
   "execution_count": null,
   "metadata": {},
   "outputs": [],
   "source": []
  }
 ],
 "metadata": {
  "kernelspec": {
   "display_name": "Python 3.8.5 ('base')",
   "language": "python",
   "name": "python3"
  },
  "language_info": {
   "codemirror_mode": {
    "name": "ipython",
    "version": 3
   },
   "file_extension": ".py",
   "mimetype": "text/x-python",
   "name": "python",
   "nbconvert_exporter": "python",
   "pygments_lexer": "ipython3",
   "version": "3.8.5"
  },
  "toc": {
   "base_numbering": 1,
   "nav_menu": {},
   "number_sections": true,
   "sideBar": true,
   "skip_h1_title": false,
   "title_cell": "Table of Contents",
   "title_sidebar": "Contents",
   "toc_cell": false,
   "toc_position": {},
   "toc_section_display": true,
   "toc_window_display": false
  },
  "varInspector": {
   "cols": {
    "lenName": 16,
    "lenType": 16,
    "lenVar": 40
   },
   "kernels_config": {
    "python": {
     "delete_cmd_postfix": "",
     "delete_cmd_prefix": "del ",
     "library": "var_list.py",
     "varRefreshCmd": "print(var_dic_list())"
    },
    "r": {
     "delete_cmd_postfix": ") ",
     "delete_cmd_prefix": "rm(",
     "library": "var_list.r",
     "varRefreshCmd": "cat(var_dic_list()) "
    }
   },
   "types_to_exclude": [
    "module",
    "function",
    "builtin_function_or_method",
    "instance",
    "_Feature"
   ],
   "window_display": false
  },
  "vscode": {
   "interpreter": {
    "hash": "c24ad2ffd5d0ce7d530db16fd242d48a66b526400c6bd264b9600ef5fe3ab370"
   }
  }
 },
 "nbformat": 4,
 "nbformat_minor": 4
}
